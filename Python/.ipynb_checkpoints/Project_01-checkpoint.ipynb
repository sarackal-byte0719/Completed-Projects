{
 "cells": [
  {
   "cell_type": "markdown",
   "metadata": {},
   "source": [
    "# Project 01\n",
    "\n",
    "### Sophia Arackal"
   ]
  },
  {
   "cell_type": "markdown",
   "metadata": {},
   "source": [
    "# Introduction\n",
    "\n",
    "In Project 01, the purpose of this project is to analyze the gapminder dataset. The analyses will be found in different sections 1-6 of this project. The gapminder dataset includes socioeconomic data from 184 countries recorded over a period of 219 years (from 1800 to 2018)."
   ]
  },
  {
   "cell_type": "code",
   "execution_count": 1,
   "metadata": {},
   "outputs": [
    {
     "data": {
      "text/html": [
       "<div>\n",
       "<style scoped>\n",
       "    .dataframe tbody tr th:only-of-type {\n",
       "        vertical-align: middle;\n",
       "    }\n",
       "\n",
       "    .dataframe tbody tr th {\n",
       "        vertical-align: top;\n",
       "    }\n",
       "\n",
       "    .dataframe thead th {\n",
       "        text-align: right;\n",
       "    }\n",
       "</style>\n",
       "<table border=\"1\" class=\"dataframe\">\n",
       "  <thead>\n",
       "    <tr style=\"text-align: right;\">\n",
       "      <th></th>\n",
       "      <th>country</th>\n",
       "      <th>year</th>\n",
       "      <th>continent</th>\n",
       "      <th>population</th>\n",
       "      <th>life_exp</th>\n",
       "      <th>gdp_per_cap</th>\n",
       "      <th>gini</th>\n",
       "    </tr>\n",
       "  </thead>\n",
       "  <tbody>\n",
       "    <tr>\n",
       "      <th>0</th>\n",
       "      <td>Afghanistan</td>\n",
       "      <td>1800</td>\n",
       "      <td>asia</td>\n",
       "      <td>3280000</td>\n",
       "      <td>28.2</td>\n",
       "      <td>603</td>\n",
       "      <td>30.5</td>\n",
       "    </tr>\n",
       "    <tr>\n",
       "      <th>1</th>\n",
       "      <td>Albania</td>\n",
       "      <td>1800</td>\n",
       "      <td>europe</td>\n",
       "      <td>410000</td>\n",
       "      <td>35.4</td>\n",
       "      <td>667</td>\n",
       "      <td>38.9</td>\n",
       "    </tr>\n",
       "    <tr>\n",
       "      <th>2</th>\n",
       "      <td>Algeria</td>\n",
       "      <td>1800</td>\n",
       "      <td>africa</td>\n",
       "      <td>2500000</td>\n",
       "      <td>28.8</td>\n",
       "      <td>715</td>\n",
       "      <td>56.2</td>\n",
       "    </tr>\n",
       "    <tr>\n",
       "      <th>3</th>\n",
       "      <td>Angola</td>\n",
       "      <td>1800</td>\n",
       "      <td>africa</td>\n",
       "      <td>1570000</td>\n",
       "      <td>27.0</td>\n",
       "      <td>618</td>\n",
       "      <td>57.2</td>\n",
       "    </tr>\n",
       "    <tr>\n",
       "      <th>4</th>\n",
       "      <td>Antigua and Barbuda</td>\n",
       "      <td>1800</td>\n",
       "      <td>americas</td>\n",
       "      <td>37000</td>\n",
       "      <td>33.5</td>\n",
       "      <td>757</td>\n",
       "      <td>40.0</td>\n",
       "    </tr>\n",
       "    <tr>\n",
       "      <th>5</th>\n",
       "      <td>Argentina</td>\n",
       "      <td>1800</td>\n",
       "      <td>americas</td>\n",
       "      <td>534000</td>\n",
       "      <td>33.2</td>\n",
       "      <td>1510</td>\n",
       "      <td>47.7</td>\n",
       "    </tr>\n",
       "    <tr>\n",
       "      <th>6</th>\n",
       "      <td>Armenia</td>\n",
       "      <td>1800</td>\n",
       "      <td>europe</td>\n",
       "      <td>413000</td>\n",
       "      <td>34.0</td>\n",
       "      <td>514</td>\n",
       "      <td>31.5</td>\n",
       "    </tr>\n",
       "    <tr>\n",
       "      <th>7</th>\n",
       "      <td>Australia</td>\n",
       "      <td>1800</td>\n",
       "      <td>asia</td>\n",
       "      <td>351000</td>\n",
       "      <td>34.0</td>\n",
       "      <td>814</td>\n",
       "      <td>38.7</td>\n",
       "    </tr>\n",
       "    <tr>\n",
       "      <th>8</th>\n",
       "      <td>Austria</td>\n",
       "      <td>1800</td>\n",
       "      <td>europe</td>\n",
       "      <td>3210000</td>\n",
       "      <td>34.4</td>\n",
       "      <td>1850</td>\n",
       "      <td>33.4</td>\n",
       "    </tr>\n",
       "    <tr>\n",
       "      <th>9</th>\n",
       "      <td>Azerbaijan</td>\n",
       "      <td>1800</td>\n",
       "      <td>europe</td>\n",
       "      <td>880000</td>\n",
       "      <td>29.2</td>\n",
       "      <td>775</td>\n",
       "      <td>70.5</td>\n",
       "    </tr>\n",
       "  </tbody>\n",
       "</table>\n",
       "</div>"
      ],
      "text/plain": [
       "               country  year continent  population  life_exp  gdp_per_cap  \\\n",
       "0          Afghanistan  1800      asia     3280000      28.2          603   \n",
       "1              Albania  1800    europe      410000      35.4          667   \n",
       "2              Algeria  1800    africa     2500000      28.8          715   \n",
       "3               Angola  1800    africa     1570000      27.0          618   \n",
       "4  Antigua and Barbuda  1800  americas       37000      33.5          757   \n",
       "5            Argentina  1800  americas      534000      33.2         1510   \n",
       "6              Armenia  1800    europe      413000      34.0          514   \n",
       "7            Australia  1800      asia      351000      34.0          814   \n",
       "8              Austria  1800    europe     3210000      34.4         1850   \n",
       "9           Azerbaijan  1800    europe      880000      29.2          775   \n",
       "\n",
       "   gini  \n",
       "0  30.5  \n",
       "1  38.9  \n",
       "2  56.2  \n",
       "3  57.2  \n",
       "4  40.0  \n",
       "5  47.7  \n",
       "6  31.5  \n",
       "7  38.7  \n",
       "8  33.4  \n",
       "9  70.5  "
      ]
     },
     "execution_count": 1,
     "metadata": {},
     "output_type": "execute_result"
    }
   ],
   "source": [
    "import pandas as pd\n",
    "df = pd.read_csv('gapminder_data.txt', sep='\\t')\n",
    "df.head(10)"
   ]
  },
  {
   "cell_type": "code",
   "execution_count": 2,
   "metadata": {},
   "outputs": [],
   "source": [
    "country = df.country.to_list()\n",
    "continent = df.continent.to_list()\n",
    "year = df.year.to_list()\n",
    "population = df.population.to_list()\n",
    "life_exp = df.life_exp.to_list()\n",
    "pcgdp = df.gdp_per_cap.to_list()\n",
    "gini = df.gini.to_list()"
   ]
  },
  {
   "cell_type": "code",
   "execution_count": 3,
   "metadata": {},
   "outputs": [
    {
     "name": "stdout",
     "output_type": "stream",
     "text": [
      "Country:              Maldives\n",
      "Continent:            asia\n",
      "Year:                 1800\n",
      "Population:           42400\n",
      "Life Expectancy:      32.6\n",
      "Per Capita GDP:       842\n",
      "Gini Index:           41.3\n"
     ]
    }
   ],
   "source": [
    "N = 100\n",
    "\n",
    "\n",
    "print('Country:             ', country[N])\n",
    "print('Continent:           ', continent[N])\n",
    "print('Year:                ', year[N])\n",
    "print('Population:          ', population[N])\n",
    "print('Life Expectancy:     ', life_exp[N])\n",
    "print('Per Capita GDP:      ', pcgdp[N])\n",
    "print('Gini Index:          ', gini[N])"
   ]
  },
  {
   "cell_type": "code",
   "execution_count": null,
   "metadata": {},
   "outputs": [],
   "source": []
  },
  {
   "cell_type": "markdown",
   "metadata": {},
   "source": [
    "# Part 1: Displaying Past 20 Years of US Data\n",
    "\n",
    "In Project 01, Part 1, I am displaying the last 20 years of data for the United States from the gapminder dataset. "
   ]
  },
  {
   "cell_type": "code",
   "execution_count": 4,
   "metadata": {
    "scrolled": false
   },
   "outputs": [
    {
     "name": "stdout",
     "output_type": "stream",
     "text": [
      "Year\t Country\t Population\t LExp\t pcGDP\t Gini\n",
      "-------------------------------------------------------------\n",
      "1999 \t United States \t 279000000 \t 76.8 \t 44700 \t 40.5\n",
      "2000 \t United States \t 282000000 \t 76.9 \t 46000 \t 40.5\n",
      "2001 \t United States \t 285000000 \t 77.0 \t 46000 \t 40.5\n",
      "2002 \t United States \t 288000000 \t 77.1 \t 46400 \t 40.5\n",
      "2003 \t United States \t 290000000 \t 77.3 \t 47300 \t 40.5\n",
      "2004 \t United States \t 293000000 \t 77.5 \t 48600 \t 40.6\n",
      "2005 \t United States \t 295000000 \t 77.7 \t 49800 \t 40.7\n",
      "2006 \t United States \t 298000000 \t 77.9 \t 50600 \t 40.8\n",
      "2007 \t United States \t 301000000 \t 78.1 \t 51000 \t 40.8\n",
      "2008 \t United States \t 303000000 \t 78.3 \t 50400 \t 40.8\n",
      "2009 \t United States \t 306000000 \t 78.6 \t 48600 \t 40.7\n",
      "2010 \t United States \t 309000000 \t 78.7 \t 49400 \t 40.7\n",
      "2011 \t United States \t 311000000 \t 78.8 \t 49800 \t 40.7\n",
      "2012 \t United States \t 313000000 \t 78.9 \t 50500 \t 40.8\n",
      "2013 \t United States \t 316000000 \t 78.9 \t 51000 \t 41.0\n",
      "2014 \t United States \t 318000000 \t 78.9 \t 51800 \t 41.2\n",
      "2015 \t United States \t 320000000 \t 78.8 \t 52800 \t 41.3\n",
      "2016 \t United States \t 322000000 \t 78.8 \t 53300 \t 41.4\n",
      "2017 \t United States \t 324000000 \t 79.0 \t 54200 \t 41.5\n",
      "2018 \t United States \t 327000000 \t 79.1 \t 54900 \t 41.5\n"
     ]
    }
   ],
   "source": [
    "print('Year\\t Country\\t Population\\t LExp\\t pcGDP\\t Gini')\n",
    "print('-------------------------------------------------------------')\n",
    "\n",
    "for i in range(0, len(country)):\n",
    "    \n",
    "    if (country[i] == 'United States') and (year[i] >= 1999):\n",
    "         print(year[i], '\\t', country[i], '\\t', population[i], '\\t', life_exp[i], '\\t', pcgdp[i], '\\t', gini[i])\n",
    " \n"
   ]
  },
  {
   "cell_type": "code",
   "execution_count": null,
   "metadata": {},
   "outputs": [],
   "source": []
  },
  {
   "cell_type": "markdown",
   "metadata": {},
   "source": [
    "# Part 2: Selecting the 2018 Data\n",
    "\n",
    "In Project 01, Part 2, I will only focusing on the data for the year 2018 for each of the 184 countries. I will create 6 lists for the categories: country, population, continent, life_exp, pcgdp, and gini. "
   ]
  },
  {
   "cell_type": "code",
   "execution_count": 5,
   "metadata": {
    "scrolled": true
   },
   "outputs": [],
   "source": [
    "# Answer 1.\n",
    "\n",
    "country_2018 = []\n",
    "population_2018 = []\n",
    "continent_2018 = []\n",
    "life_exp_2018 = []\n",
    "pcgdp_2018 = []\n",
    "gini_2018 = []\n",
    "\n",
    "\n",
    "# Answer 2. \n",
    "\n",
    "for i in range(0, len(country)):\n",
    "    if (year[i] == 2018):\n",
    "        temp = country[i]\n",
    "        country_2018.append(temp)\n",
    "\n",
    "for i in range(0, len(population)):\n",
    "    if (year[i] == 2018):\n",
    "        temp1 = population[i]\n",
    "        population_2018.append(temp1)\n",
    "\n",
    "for i in range(0, len(continent)):\n",
    "    if (year[i] == 2018):\n",
    "        temp2 = continent[i]\n",
    "        continent_2018.append(temp2)\n",
    "\n",
    "for i in range(0, len(life_exp)):\n",
    "    if (year[i] == 2018):\n",
    "        temp3 = life_exp[i]\n",
    "        life_exp_2018.append(temp3)\n",
    "\n",
    "for i in range(0, len(pcgdp)):\n",
    "    if (year[i] == 2018):\n",
    "        temp4 = pcgdp[i]\n",
    "        pcgdp_2018.append(temp4)\n",
    "\n",
    "for i in range(0, len(gini)):\n",
    "    if (year[i] == 2018):\n",
    "        temp5 = gini[i]\n",
    "        gini_2018.append(temp5)\n",
    "    \n",
    "\n"
   ]
  },
  {
   "cell_type": "code",
   "execution_count": 6,
   "metadata": {},
   "outputs": [
    {
     "name": "stdout",
     "output_type": "stream",
     "text": [
      "The global population in 2018 was 7595200200.\n"
     ]
    }
   ],
   "source": [
    "# calulate sum \n",
    "global_population_2018 = sum(population_2018)\n",
    "print('The global population in 2018 was ', global_population_2018, '.', sep='')\n"
   ]
  },
  {
   "cell_type": "code",
   "execution_count": null,
   "metadata": {},
   "outputs": [],
   "source": []
  },
  {
   "cell_type": "markdown",
   "metadata": {},
   "source": [
    "# Part 3: Identifying Countries with Largest and Smallest Populations\n",
    "\n",
    "In Project 01, Part 3, I will show the lists of the countries with the largest and smallest populations in 2018.\n"
   ]
  },
  {
   "cell_type": "code",
   "execution_count": 7,
   "metadata": {},
   "outputs": [
    {
     "name": "stdout",
     "output_type": "stream",
     "text": [
      "131000000\n",
      "Countries with Largest Populations in 2018\n",
      "------------------------------------------------------\n",
      "The population of Bangladesh in 2018 was 166000000.\n",
      "The population of Brazil in 2018 was 211000000.\n",
      "\n",
      "Countries with Largest Populations in 2018\n",
      "------------------------------------------------------\n",
      "The population of Bangladesh in 2018 was 166000000.\n",
      "The population of Brazil in 2018 was 211000000.\n",
      "The population of China in 2018 was 1420000000.\n",
      "The population of India in 2018 was 1350000000.\n",
      "The population of Indonesia in 2018 was 267000000.\n",
      "The population of Mexico in 2018 was 131000000.\n",
      "The population of Nigeria in 2018 was 196000000.\n",
      "The population of Pakistan in 2018 was 201000000.\n",
      "The population of Russia in 2018 was 144000000.\n",
      "The population of United States in 2018 was 327000000.\n"
     ]
    }
   ],
   "source": [
    "#Largest Population\n",
    "#Answer 1. Sorted list\n",
    "\n",
    "population_2018_desc = sorted(population_2018, reverse=True)\n",
    "\n",
    "\n",
    "#Answer 2. Use Sorted list to determine 10th largest population \n",
    "\n",
    "# to find the top 10 largest populations to determine what is the 10th largest population\n",
    "population_2018_desc_10L = (population_2018_desc [:10])\n",
    "#print(population_2018_desc_10L)\n",
    "\n",
    "#To confirm the 10th largest population\n",
    "population_2018_desc_10 = (population_2018_desc [9])\n",
    "print(population_2018_desc_10)\n",
    "\n",
    "\n",
    "#Answer 3. These are the first 2 lines in the output. \n",
    "\n",
    "print('Countries with Largest Populations in 2018')\n",
    "print('------------------------------------------------------')\n",
    "print('The population of ', country_2018 [12] , ' in 2018 was ', population_2018[12], '.', sep =\"\")  \n",
    "print('The population of ', country_2018 [22] , ' in 2018 was ', population_2018[22], '.', sep =\"\")  \n",
    "\n",
    "#to create space between answers\n",
    "print('')\n",
    "\n",
    "#Answer 4. \n",
    "print('Countries with Largest Populations in 2018')\n",
    "print('------------------------------------------------------')\n",
    "\n",
    "for i in range(0, len(country_2018)):\n",
    "    \n",
    "    if (population_2018[i] >= 131000000):\n",
    "        print('The population of ', country_2018[i] , ' in 2018 was ', population_2018[i], '.', sep =\"\")        \n",
    "        \n"
   ]
  },
  {
   "cell_type": "code",
   "execution_count": null,
   "metadata": {},
   "outputs": [],
   "source": []
  },
  {
   "cell_type": "code",
   "execution_count": 8,
   "metadata": {},
   "outputs": [
    {
     "name": "stdout",
     "output_type": "stream",
     "text": [
      "209000\n",
      "Countries with Smallest Populations in 2018\n",
      "------------------------------------------------------\n",
      "The population of Antigua and Barbuda in 2018 was 103000.\n",
      "The population of Grenada in 2018 was 108000.\n",
      "\n",
      "Countries with Smallest Populations in 2018\n",
      "------------------------------------------------------\n",
      "The population of Antigua and Barbuda in 2018 was 103000.\n",
      "The population of Grenada in 2018 was 108000.\n",
      "The population of Kiribati in 2018 was 118000.\n",
      "The population of Micronesia, Fed. Sts. in 2018 was 106000.\n",
      "The population of Samoa in 2018 was 198000.\n",
      "The population of Sao Tome and Principe in 2018 was 209000.\n",
      "The population of Seychelles in 2018 was 95200.\n",
      "The population of St. Lucia in 2018 was 180000.\n",
      "The population of St. Vincent and the Grenadines in 2018 was 110000.\n",
      "The population of Tonga in 2018 was 109000.\n"
     ]
    }
   ],
   "source": [
    "#Smallest Population\n",
    "\n",
    "# Answer 1. Sorted list used to determine 10th smallest population .\n",
    "\n",
    "population_2018_desc = sorted(population_2018, reverse=True)\n",
    "\n",
    "# to find the top 10 smallest populations to determine what is the 10th smallest population\n",
    "population_2018_desc_10SM = (population_2018_desc[174:])\n",
    "#print(population_2018_desc_10SM)\n",
    "\n",
    "# to confirm the 10th smallest population\n",
    "population_2018_desc_10sm = (population_2018_desc[174])\n",
    "print(population_2018_desc_10sm)\n",
    "\n",
    "\n",
    "# Answer 2. These are the first 2 lines in the output. \n",
    "\n",
    "print('Countries with Smallest Populations in 2018')\n",
    "print('------------------------------------------------------')\n",
    "print('The population of ', country_2018 [4] , ' in 2018 was ', population_2018[4], '.', sep =\"\")  \n",
    "print('The population of ', country_2018 [64] , ' in 2018 was ', population_2018[64], '.', sep =\"\")  \n",
    "\n",
    "#to create space between answers\n",
    "print('')\n",
    "\n",
    "# Answer 3. \n",
    "\n",
    "print('Countries with Smallest Populations in 2018')\n",
    "print('------------------------------------------------------')\n",
    "\n",
    "for i in range(0, len(country_2018)):\n",
    "    \n",
    "    if (population_2018[i] <= 209000):\n",
    "        \n",
    "        print('The population of ', country_2018[i] , ' in 2018 was ', population_2018[i], '.', sep =\"\")         \n",
    " \n"
   ]
  },
  {
   "cell_type": "code",
   "execution_count": null,
   "metadata": {},
   "outputs": [],
   "source": []
  },
  {
   "cell_type": "markdown",
   "metadata": {},
   "source": [
    "# Part 4: Identifying Countries with Highest and Lowest Life Expectancies\n",
    "\n",
    "In Project 01, Part 4, I will show the lists of the countries with the highest life expectancies in 2018 and countries with the lowest life expectancies in 2018."
   ]
  },
  {
   "cell_type": "code",
   "execution_count": 9,
   "metadata": {},
   "outputs": [
    {
     "name": "stdout",
     "output_type": "stream",
     "text": [
      "82.4\n",
      "Countries with Highest Life Expectancy in 2018\n",
      "------------------------------------------------------\n",
      "The life expectancy of Australia in 2018 was 82.9.\n",
      "The life expectancy of France in 2018 was 82.6.\n",
      "The life expectancy of Iceland in 2018 was 82.6.\n",
      "The life expectancy of Israel in 2018 was 82.4.\n",
      "The life expectancy of Italy in 2018 was 82.6.\n",
      "The life expectancy of Japan in 2018 was 84.2.\n",
      "The life expectancy of Luxembourg in 2018 was 82.4.\n",
      "The life expectancy of Norway in 2018 was 82.4.\n",
      "The life expectancy of Singapore in 2018 was 84.0.\n",
      "The life expectancy of Spain in 2018 was 83.2.\n",
      "The life expectancy of Sweden in 2018 was 82.4.\n",
      "The life expectancy of Switzerland in 2018 was 83.5.\n"
     ]
    }
   ],
   "source": [
    "# Countries with Highest Life Expectancies\n",
    "# Answer \n",
    "\n",
    "life_exp_2018_desc = sorted(life_exp_2018, reverse=True)\n",
    "\n",
    "\n",
    "# To determine the top 10 countries with highest life expectancies\n",
    "life_exp_2018_desc_10L = (life_exp_2018_desc [:10])\n",
    "#print(life_exp_2018_desc_10L)\n",
    "\n",
    "\n",
    "#to confirm the 10th country with highest life expectancy\n",
    "life_exp_2018_desc_10 = (life_exp_2018_desc [9])\n",
    "print(life_exp_2018_desc_10)\n",
    "\n",
    "\n",
    "# since there was a 4 way tie for age =82.4, the output resulted in printing 12 lines instead of 10.\n",
    "\n",
    "print('Countries with Highest Life Expectancy in 2018')\n",
    "print('------------------------------------------------------')\n",
    "\n",
    "for i in range(0, len(country_2018)):\n",
    "    \n",
    "    if (life_exp_2018[i] >= 82.4):\n",
    "        print('The life expectancy of ', country_2018[i] , ' in 2018 was ', life_exp_2018[i], '.', sep =\"\")        \n",
    "       \n"
   ]
  },
  {
   "cell_type": "code",
   "execution_count": 10,
   "metadata": {},
   "outputs": [
    {
     "name": "stdout",
     "output_type": "stream",
     "text": [
      "60.5\n",
      "Countries with Lowest Life Expectancy in 2018\n",
      "------------------------------------------------------\n",
      "The life expectancy of Afghanistan in 2018 was 58.7.\n",
      "The life expectancy of Central African Republic in 2018 was 51.6.\n",
      "The life expectancy of Chad in 2018 was 60.5.\n",
      "The life expectancy of Guinea-Bissau in 2018 was 59.7.\n",
      "The life expectancy of Lesotho in 2018 was 51.1.\n",
      "The life expectancy of Sierra Leone in 2018 was 60.0.\n",
      "The life expectancy of Somalia in 2018 was 58.0.\n",
      "The life expectancy of Swaziland in 2018 was 58.6.\n",
      "The life expectancy of Zambia in 2018 was 59.5.\n",
      "The life expectancy of Zimbabwe in 2018 was 60.2.\n"
     ]
    }
   ],
   "source": [
    "# Countries with Lowest Life Expectancies\n",
    "\n",
    "# Answer \n",
    "\n",
    "life_exp_2018_desc = sorted(life_exp_2018, reverse=True)\n",
    "\n",
    "# To determine the top 10 countries lowest life expectancies\n",
    "life_exp_2018_desc_10L = (life_exp_2018_desc [174:])\n",
    "#print(life_exp_2018_desc_10L)\n",
    "\n",
    "# to confirm  the 10th lowest life expectancy\n",
    "life_exp_2018_desc_10 = (life_exp_2018_desc [174])\n",
    "print(life_exp_2018_desc_10)\n",
    "\n",
    "\n",
    "print('Countries with Lowest Life Expectancy in 2018')\n",
    "print('------------------------------------------------------')\n",
    "\n",
    "for i in range(0, len(country_2018)):\n",
    "    \n",
    "    if (life_exp_2018[i] <= 60.5):\n",
    "        \n",
    "         print('The life expectancy of ', country_2018[i] , ' in 2018 was ', life_exp_2018[i], '.', sep =\"\")        \n",
    " \n"
   ]
  },
  {
   "cell_type": "code",
   "execution_count": null,
   "metadata": {},
   "outputs": [],
   "source": []
  },
  {
   "cell_type": "markdown",
   "metadata": {},
   "source": [
    "# Part 5: Calculating GDP by Country\n",
    "\n",
    "In Project 01, Part 5, I will create a list that contains the total GDP for each country in 2018 and the total GDP of the world."
   ]
  },
  {
   "cell_type": "code",
   "execution_count": 11,
   "metadata": {},
   "outputs": [
    {
     "name": "stdout",
     "output_type": "stream",
     "text": [
      "The total global GDP in 2018 was $118225647770000.\n"
     ]
    }
   ],
   "source": [
    "# Answer \n",
    "\n",
    "gdp_2018 = []\n",
    "\n",
    "for i in range(0, len(pcgdp)):\n",
    "    if (year[i] == 2018):\n",
    "        temp10 = (pcgdp[i] * population[i])\n",
    "        gdp_2018.append(temp10)\n",
    "\n",
    "\n",
    "\n",
    "#Answer\n",
    "\n",
    "total_global_GDP_2018 = sum(gdp_2018)\n",
    "print('The total global GDP in 2018 was ','$', total_global_GDP_2018, '.', sep ='')\n"
   ]
  },
  {
   "cell_type": "code",
   "execution_count": 12,
   "metadata": {},
   "outputs": [
    {
     "name": "stdout",
     "output_type": "stream",
     "text": [
      "The country with the highest GDP in 2018 was China with a GDP of 22720000000000.\n",
      "The country with the lowest GDP in 2018 was Kiribati with a GDP of 223020000.\n"
     ]
    }
   ],
   "source": [
    "#Answer\n",
    "min_value = min(gdp_2018)\n",
    "max_value = max(gdp_2018)\n",
    "\n",
    "min_index = gdp_2018.index(min_value)\n",
    "max_index = gdp_2018.index(max_value)\n",
    "\n",
    "print('The country with the highest GDP in 2018 was ', country_2018[max_index], ' with a GDP of ', max_value, '.', sep='') \n",
    "print('The country with the lowest GDP in 2018 was ', country_2018[min_index], ' with a GDP of ', min_value, '.', sep='') \n",
    "\n"
   ]
  },
  {
   "cell_type": "code",
   "execution_count": null,
   "metadata": {},
   "outputs": [],
   "source": []
  },
  {
   "cell_type": "markdown",
   "metadata": {},
   "source": [
    "# Part 6: Grouping by Continent\n",
    "\n",
    "In Project 01, Part 6, I will calculate the total population, per capita GDP, and life expectancy for each of continent in 2018."
   ]
  },
  {
   "cell_type": "code",
   "execution_count": 13,
   "metadata": {},
   "outputs": [
    {
     "name": "stdout",
     "output_type": "stream",
     "text": [
      "['africa', 'americas', 'asia', 'europe']\n",
      "Continent         Population       pcGDP    Life Exp\n",
      "----------------------------------------------------\n",
      "Africa         1,287,150,200      $4,699        65.9\n",
      "Americas       1,010,978,000     $28,708        77.5\n",
      "Asia           4,455,113,000     $12,705        73.2\n",
      "Europe           841,959,000     $31,533        78.4\n"
     ]
    }
   ],
   "source": [
    "# Answer 1: Create a list of continent names, in alpohabetical order\n",
    "continent_names = ['africa', 'americas', 'asia', 'europe']\n",
    "continent_names = sorted(list(set(continent_2018)))\n",
    "print(continent_names)\n",
    "\n",
    "# Answer 2: Create empty lists\n",
    "pcgdp_2018_by_continent = []\n",
    "pop_2018_by_continent = []\n",
    "life_exp_2018_by_continent = []\n",
    "\n",
    "# Answer 3: Loop by continent and then by country\n",
    "for continent in continent_names : # Loop by continent\n",
    "   # Initialize/reset variabels\n",
    "    temp_life_exp = 0\n",
    "    temp_pop = 0\n",
    "    temp_gdp = 0\n",
    "\n",
    "    for idx in range(0, len(country_2018)) : # Loop by country\n",
    "        if continent_2018[idx] == continent :\n",
    "           # print(continent)\n",
    "            temp_life_exp += life_exp_2018[idx] * population_2018[idx]\n",
    "            temp_pop += population_2018[idx]\n",
    "            temp_gdp += gdp_2018[idx]\n",
    "\n",
    "         # Populate results\n",
    "    pcgdp_2018_by_continent.append(int(temp_gdp / temp_pop))\n",
    "    pop_2018_by_continent.append(temp_pop)\n",
    "    life_exp_2018_by_continent.append(round(temp_life_exp / temp_pop,1))\n",
    "\n",
    "\n",
    "# Print the results\n",
    "# ====================================\n",
    "print(f'{\"Continent\":<15}{\"Population\":>13}{\"pcGDP\":>12}{\"Life Exp\":>12}')\n",
    "print('----------------------------------------------------')\n",
    "\n",
    "for idx in range(0, len(continent_names)) :\n",
    "    print(f'{continent_names[idx].title():<15}{\"{:,}\".format(pop_2018_by_continent[idx]):>13}{\"${:,}\".format(pcgdp_2018_by_continent[idx]):>12}{life_exp_2018_by_continent[idx]:>12}')\n",
    "\n"
   ]
  }
 ],
 "metadata": {
  "kernelspec": {
   "display_name": "Python 3",
   "language": "python",
   "name": "python3"
  },
  "language_info": {
   "codemirror_mode": {
    "name": "ipython",
    "version": 3
   },
   "file_extension": ".py",
   "mimetype": "text/x-python",
   "name": "python",
   "nbconvert_exporter": "python",
   "pygments_lexer": "ipython3",
   "version": "3.7.9"
  }
 },
 "nbformat": 4,
 "nbformat_minor": 2
}
